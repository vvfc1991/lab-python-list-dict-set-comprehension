{
 "cells": [
  {
   "cell_type": "markdown",
   "id": "25d7736c-ba17-4aff-b6bb-66eba20fbf4e",
   "metadata": {},
   "source": [
    "# Lab | List, Dict and Set Comprehension"
   ]
  },
  {
   "cell_type": "markdown",
   "id": "7dd3cbde-675a-4b81-92c3-f728846dbe06",
   "metadata": {},
   "source": [
    "## Exercise: Managing Customer Orders Optimized with Comprehension"
   ]
  },
  {
   "cell_type": "markdown",
   "id": "5d500160-2fb7-4777-b5e4-09d45ebaf328",
   "metadata": {},
   "source": [
    "In the previous exercise, you developed a program to manage customer orders and inventory. Now, let's take it a step further and incorporate comprehension into your code.\n",
    "\n",
    "Follow the steps below to complete the exercise:\n",
    "\n",
    "1. Review your code from the previous exercise and identify areas where you can apply comprehension to simplify and streamline your code. \n",
    "\n",
    "    - *Hint: Apply it to initialize inventory, updating the inventory and printing the updated inventory.*\n",
    "    \n",
    "    - For example, in initializing the inventory, we could have:\n",
    "    \n",
    "        ```python\n",
    "        def initialize_inventory(products):\n",
    "            inventory = {product: int(input(f\"Enter the quantity of {product}s available: \")) for product in products}\n",
    "            return inventory\n",
    "\n",
    "        ```\n",
    "<br>\n",
    "    \n",
    "    \n",
    "2. Modify the function get_customer_orders so it prompts the user to enter the number of customer orders and gathers the product names using a loop and user input. Use comprehension.\n",
    "\n",
    "3. Add a new function to calculate the total price of the customer order. For each product in customer_orders, prompt the user to enter the price of that product. Use comprehension to calculate the total price. Note: assume that the user can only have 1 unit of each product.\n",
    "\n",
    "4. Modify the update_inventory function to remove the product from the inventory if its quantity becomes zero after fulfilling the customer orders. Use comprehension to filter out the products with a quantity of zero from the inventory.\n",
    "\n",
    "5. Print the total price of the customer order.\n",
    "\n",
    "Your code should produce output similar to the following:\n",
    "\n",
    "```python\n",
    "Enter the quantity of t-shirts available:  5\n",
    "Enter the quantity of mugs available:  4\n",
    "Enter the quantity of hats available:  3\n",
    "Enter the quantity of books available:  2\n",
    "Enter the quantity of keychains available:  1\n",
    "Enter the number of customer orders:  2\n",
    "Enter the name of a product that a customer wants to order:  hat\n",
    "Enter the name of a product that a customer wants to order:  keychain\n",
    "\n",
    "Order Statistics:\n",
    "Total Products Ordered: 2\n",
    "Percentage of Unique Products Ordered: 40.0\n",
    "\n",
    "Updated Inventory:\n",
    "t-shirt: 5\n",
    "mug: 4\n",
    "hat: 2\n",
    "book: 2\n",
    "Enter the price of keychain:  5\n",
    "Enter the price of hat:  10\n",
    "Total Price: 15.0\n",
    "\n",
    "```\n"
   ]
  },
  {
   "cell_type": "code",
   "execution_count": 12,
   "id": "06c61d58",
   "metadata": {
    "scrolled": true
   },
   "outputs": [
    {
     "name": "stdout",
     "output_type": "stream",
     "text": [
      "Enter the quantity of t-shirts available: 5\n",
      "Enter the quantity of mugs available: 4\n",
      "Enter the quantity of hats available: 3\n",
      "Enter the quantity of books available: 2\n",
      "Enter the quantity of keychains available: 1\n",
      "Enter the number of customer orders: 2\n",
      "Enter the name of a product to order: hat\n",
      "Enter the name of a product to order: keychain\n",
      "Enter the price of hat: 10\n",
      "Enter the price of keychain: 5\n"
     ]
    }
   ],
   "source": [
    "products = [\"t-shirt\", \"mug\", \"hat\", \"book\", \"keychain\"]\n",
    "\n",
    "\n",
    "def initialize_inventory(products):\n",
    "    inventory = {product: int(input(f\"Enter the quantity of {product}s available: \")) for product in products}\n",
    "    return inventory\n",
    "\n",
    "\n",
    "def get_customer_orders():\n",
    "    num_orders = int(input(\"Enter the number of customer orders: \"))\n",
    "    customer_orders = {input(\"Enter the name of a product to order: \") for _ in range(num_orders)}\n",
    "    return customer_orders\n",
    "\n",
    "\n",
    "def calculate_total_price(customer_orders):\n",
    "    prices = {input(f\"Enter the price of {product}: \"): 1 for product in customer_orders}\n",
    "    total_price = sum(float(price) for price in prices)\n",
    "    return total_price\n",
    "\n",
    "\n",
    "def update_inventory(customer_orders, inventory):\n",
    "    inventory = {product: quantity - 1 for product, quantity in inventory.items() if quantity > 0}\n",
    "    return inventory\n",
    "\n",
    "\n",
    "def print_total_price(total_price):\n",
    "    print(f\"\\nTotal Price: {total_price}\")\n",
    "\n",
    "\n",
    "inventory = initialize_inventory(products)\n",
    "customer_orders = get_customer_orders()\n",
    "total_price = calculate_total_price(customer_orders)\n",
    "order_statistics = (len(customer_orders), (len(customer_orders) / len(products)) * 100)\n",
    "inventory = update_inventory(customer_orders, inventory)\n"
   ]
  },
  {
   "cell_type": "code",
   "execution_count": 17,
   "id": "b5cf119d",
   "metadata": {
    "scrolled": false
   },
   "outputs": [
    {
     "name": "stdout",
     "output_type": "stream",
     "text": [
      "Enter the quantity of t-shirts available: 5\n",
      "Enter the quantity of mugs available: 4\n",
      "Enter the quantity of hats available: 3\n",
      "Enter the quantity of books available: 2\n",
      "Enter the quantity of keychains available: 1\n",
      "Enter the number of customer orders: 2\n",
      "Enter the name of a product to order: hat\n",
      "Enter the name of a product to order: keychain\n",
      "Enter the price of hat: 10\n",
      "Enter the price of keychain: 5\n",
      "\n",
      "Order Statistics:\n",
      "Total Products Ordered: 2\n",
      "Percentage of Unique Products Ordered: 40.0%\n",
      "\n",
      "Updated Inventory:\n",
      "hat: 2\n",
      "\n",
      "Total Price: 15.0\n"
     ]
    }
   ],
   "source": [
    "def update_inventory(customer_orders, inventory):\n",
    "    remove_keychain = lambda orders: {order for order in orders if order != 'keychain'}\n",
    "    \n",
    "    \n",
    "    customer_orders = remove_keychain(customer_orders)\n",
    "    \n",
    "    \n",
    "    inventory = {product: quantity - 1 for product, quantity in inventory.items() if product in customer_orders and quantity > 0}\n",
    "    return inventory\n",
    "\n",
    "def print_total_price(total_price):\n",
    "    print(f\"\\nTotal Price: {total_price}\")\n",
    "\n",
    "\n",
    "inventory = initialize_inventory(products)\n",
    "customer_orders = get_customer_orders()\n",
    "total_price = calculate_total_price(customer_orders)\n",
    "order_statistics = (len(customer_orders), (len(customer_orders) / len(products)) * 100)\n",
    "inventory = update_inventory(customer_orders, inventory)\n",
    "\n",
    "\n",
    "print(\"\\nOrder Statistics:\")\n",
    "print(f\"Total Products Ordered: {order_statistics[0]}\")\n",
    "print(f\"Percentage of Unique Products Ordered: {order_statistics[1]:.1f}%\")\n",
    "\n",
    "\n",
    "print(\"\\nUpdated Inventory:\")\n",
    "for product, quantity in inventory.items():\n",
    "    print(f\"{product}: {quantity}\")\n",
    "\n",
    "print_total_price(total_price)"
   ]
  },
  {
   "cell_type": "code",
   "execution_count": 18,
   "id": "33186e84",
   "metadata": {},
   "outputs": [
    {
     "name": "stdout",
     "output_type": "stream",
     "text": [
      "\n",
      "Updated Inventory:\n",
      "hat: 2\n",
      "\n",
      "Total Price: 15.0\n"
     ]
    }
   ],
   "source": []
  },
  {
   "cell_type": "code",
   "execution_count": null,
   "id": "4158b39e",
   "metadata": {},
   "outputs": [],
   "source": []
  }
 ],
 "metadata": {
  "kernelspec": {
   "display_name": "Python 3 (ipykernel)",
   "language": "python",
   "name": "python3"
  },
  "language_info": {
   "codemirror_mode": {
    "name": "ipython",
    "version": 3
   },
   "file_extension": ".py",
   "mimetype": "text/x-python",
   "name": "python",
   "nbconvert_exporter": "python",
   "pygments_lexer": "ipython3",
   "version": "3.11.5"
  }
 },
 "nbformat": 4,
 "nbformat_minor": 5
}
